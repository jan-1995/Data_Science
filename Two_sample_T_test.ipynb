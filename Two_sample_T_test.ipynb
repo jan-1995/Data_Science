{
  "nbformat": 4,
  "nbformat_minor": 0,
  "metadata": {
    "colab": {
      "provenance": [],
      "authorship_tag": "ABX9TyP+K2HQxD40xoDpz9iJ191n",
      "include_colab_link": true
    },
    "kernelspec": {
      "name": "python3",
      "display_name": "Python 3"
    },
    "language_info": {
      "name": "python"
    }
  },
  "cells": [
    {
      "cell_type": "markdown",
      "metadata": {
        "id": "view-in-github",
        "colab_type": "text"
      },
      "source": [
        "<a href=\"https://colab.research.google.com/github/jan-1995/Data_Science/blob/main/Two_sample_T_test.ipynb\" target=\"_parent\"><img src=\"https://colab.research.google.com/assets/colab-badge.svg\" alt=\"Open In Colab\"/></a>"
      ]
    },
    {
      "cell_type": "code",
      "execution_count": null,
      "metadata": {
        "id": "0HbD-GkUiDjM"
      },
      "outputs": [],
      "source": [
        "#There are several two sample t test formulas\n",
        "\n",
        "#The numerator is always the same\n",
        "\n",
        "#The denominator depends on whether the groups are paired or unpaired, have equal or unequal variance, and have matched or different sample sizes\n",
        "\n"
      ]
    },
    {
      "cell_type": "markdown",
      "source": [
        "## **Explanation of t-test types**\n",
        "The purpose of a  t test is to test whether two sets or samples of numbers could have been drawn from the same distribution\n",
        "\n",
        "**Example Application**\n",
        "\n",
        "Test whether self-reported stress levels changed after 6 weeks of 'social distancing'\n",
        "\n",
        "(Formal Statement: Estimate the probability that the self-reported stress levels before and after 6 weeks of social distancing were drawn from the same distribution)\n",
        "\n",
        "1. Paired or unPaired: Whether two groups of data are drawn from the same or different individuals\n",
        "**Paired:** The same individuals self-report their stress levels before vs after social distancing\n",
        "\n",
        "**UnPaired:** Change in social distancing related stress in Denmark vs Singapore\n",
        "\n",
        "2. Equal or Unequal Variance: Whether the two groups have roughly equal or unequal variance\n",
        "\n",
        "3. Equal or Un Equal Sample Size: Whether the two groups have the same number of data points\n",
        "\n",
        "\n",
        "The two-sample t-test (Snedecor and Cochran, 1989) is used to determine if two population means are equal.\n",
        "Whether two samples have been drawn from the same population with regards to a certain category, for example in the titanic dataset, we can assess whether the two categories 'Survived' or not 'Survived were drawn from the same distribution with regards to a certain feature like 'number of parents' and see if the number of parents have the same mena or not. If not then the p value will be low saying that these two un paired have been drawn from a different distribution making it an effective feature to use for classifying for Survived or Not\n"
      ],
      "metadata": {
        "id": "2HXuw04Riku0"
      }
    },
    {
      "cell_type": "code",
      "source": [
        "## generate the data\n",
        "import numpy as np\n",
        "import matplotlib.pyplot as plt\n",
        "import scipy.stats as stats\n",
        "# parameters \n",
        "n1=30\n",
        "n2=40\n",
        "mu1=1\n",
        "mu2=0.2\n",
        "data1=mu1 + np.random.randn(n1)\n",
        "data2=mu2 + np.random.randn(n2)\n",
        "\n",
        "\n",
        "# show the data in the form of histograms\n",
        "plt.hist(data1, bins='fd', color=[1,0,0,.5], label='Data 1')\n",
        "plt.hist(data2, bins='fd', color=[0,0,1,.5], label='Data 2')\n",
        "plt.xlabel('data value')\n",
        "plt.ylabel('count')\n",
        "\n",
        "t,p=stats.ttest_ind(data1,data2,equal_var=True)\n",
        "print('t statistic = ',t)\n",
        "print('p value = ',p)"
      ],
      "metadata": {
        "colab": {
          "base_uri": "https://localhost:8080/",
          "height": 316
        },
        "id": "YV6dwEl224Ld",
        "outputId": "596a04ec-4b03-40a2-da93-a366e670c6a7"
      },
      "execution_count": 20,
      "outputs": [
        {
          "output_type": "stream",
          "name": "stdout",
          "text": [
            "t statistic =  1.7463200419758558\n",
            "p value =  0.0852712560906606\n"
          ]
        },
        {
          "output_type": "display_data",
          "data": {
            "text/plain": [
              "<Figure size 432x288 with 1 Axes>"
            ],
            "image/png": "[encoded data removed]"
          },
          "metadata": {
            "needs_background": "light"
          }
        }
      ]
    }
  ]
}