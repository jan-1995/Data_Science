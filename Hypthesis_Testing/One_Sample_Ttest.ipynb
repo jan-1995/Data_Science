{
  "nbformat": 4,
  "nbformat_minor": 0,
  "metadata": {
    "colab": {
      "provenance": [],
      "collapsed_sections": [],
      "authorship_tag": "ABX9TyNHlSP2AHzj5r3B0NJLSb6K",
      "include_colab_link": true
    },
    "kernelspec": {
      "name": "python3",
      "display_name": "Python 3"
    },
    "language_info": {
      "name": "python"
    }
  },
  "cells": [
    {
      "cell_type": "markdown",
      "metadata": {
        "id": "view-in-github",
        "colab_type": "text"
      },
      "source": [
        "<a href=\"https://colab.research.google.com/github/jan-1995/Data_Science/blob/main/One_Sample_Ttest.ipynb\" target=\"_parent\"><img src=\"https://colab.research.google.com/assets/colab-badge.svg\" alt=\"Open In Colab\"/></a>"
      ]
    },
    {
      "cell_type": "code",
      "execution_count": 19,
      "metadata": {
        "id": "OWlelTX_KJoC"
      },
      "outputs": [],
      "source": [
        "import matplotlib.pyplot as plt\n",
        "import numpy as np\n",
        "import scipy.stats as stats"
      ]
    },
    {
      "cell_type": "code",
      "source": [
        "#Generate Data\n",
        "\n",
        "N=20\n",
        "\n",
        "popMu=0.5 #True population mean\n",
        "\n",
        "#np.random.randn generates random noise \n",
        "data=np.random.randn(N,)+popMu\n",
        "\n",
        "#Lets see what the data looks like\n",
        "plt.plot(data,'o',markerfacecolor='w', markersize=10)\n",
        "plt.xlabel('Data index')\n",
        "plt.ylabel('Datavalue')\n",
        "plt.show()\n",
        "## T test\n",
        "\n",
        "# null hypothesis value\n",
        "HOval=0\n",
        "\n",
        "# compute the t-value\n",
        "\n",
        "t_num=np.mean(data)-HOval\n",
        "#Always remember that in python the denominator degrees of freedom equals 1 if we are computing a 'sample' standard deviation\n",
        "t_den=np.std(data, ddof=1)/np.sqrt(N)\n",
        "tval=t_num/t_den\n",
        "\n",
        "# degrees of freedom of a 1 sample t test is alwyas n-1\n",
        "#because as soon as we know the mean, then we dont need all data points\n",
        "\n",
        "df=N-1\n",
        "\n",
        "# p value\n",
        "#multiplied by two fro a 2 sided t test\n",
        "pval=(1-stats.t.cdf(abs(tval),df))*2\n",
        "\n",
        "# show the HO parameter distribution and observed t value\n",
        "\n",
        "x=np.linspace(-4,4,1001)\n",
        "tdist=stats.t.pdf(x,df)*np.mean(np.diff(x))\n",
        "\n",
        "plt.plot(x,tdist,linewidth=2)\n",
        "plt.plot([tval,tval],[0,max(tdist)],'r--')\n",
        "plt.legend('H_O distribution','Observed t-value')\n",
        "plt.xlabel('t-value')\n",
        "plt.ylabel('pdf(t)')\n",
        "plt.title('t(%g)=%g, p%g'%(df,tval,pval))\n",
        "plt.show()\n"
      ],
      "metadata": {
        "colab": {
          "base_uri": "https://localhost:8080/",
          "height": 1000
        },
        "id": "1LUU_CJ3KV-5",
        "outputId": "f8ae03aa-f380-4718-bcd1-f6939dee622d"
      },
      "execution_count": 47,
      "outputs": [
        {
          "output_type": "display_data",
          "data": {
            "text/plain": [
              "<Figure size 432x288 with 1 Axes>"
            ],
            "image/png": "[encoded data removed]"
          },
          "metadata": {
            "needs_background": "light"
          }
        },
        {
          "output_type": "stream",
          "name": "stderr",
          "text": [
            "/usr/local/lib/python3.7/dist-packages/ipykernel_launcher.py:42: UserWarning: Legend does not support 'H' instances.\n",
            "A proxy artist may be used instead.\n",
            "See: http://matplotlib.org/users/legend_guide.html#creating-artists-specifically-for-adding-to-the-legend-aka-proxy-artists\n",
            "/usr/local/lib/python3.7/dist-packages/ipykernel_launcher.py:42: UserWarning: Legend does not support '_' instances.\n",
            "A proxy artist may be used instead.\n",
            "See: http://matplotlib.org/users/legend_guide.html#creating-artists-specifically-for-adding-to-the-legend-aka-proxy-artists\n",
            "/usr/local/lib/python3.7/dist-packages/ipykernel_launcher.py:42: UserWarning: Legend does not support 'O' instances.\n",
            "A proxy artist may be used instead.\n",
            "See: http://matplotlib.org/users/legend_guide.html#creating-artists-specifically-for-adding-to-the-legend-aka-proxy-artists\n",
            "/usr/local/lib/python3.7/dist-packages/ipykernel_launcher.py:42: UserWarning: Legend does not support ' ' instances.\n",
            "A proxy artist may be used instead.\n",
            "See: http://matplotlib.org/users/legend_guide.html#creating-artists-specifically-for-adding-to-the-legend-aka-proxy-artists\n",
            "/usr/local/lib/python3.7/dist-packages/ipykernel_launcher.py:42: UserWarning: Legend does not support 'd' instances.\n",
            "A proxy artist may be used instead.\n",
            "See: http://matplotlib.org/users/legend_guide.html#creating-artists-specifically-for-adding-to-the-legend-aka-proxy-artists\n",
            "/usr/local/lib/python3.7/dist-packages/ipykernel_launcher.py:42: UserWarning: Legend does not support 'i' instances.\n",
            "A proxy artist may be used instead.\n",
            "See: http://matplotlib.org/users/legend_guide.html#creating-artists-specifically-for-adding-to-the-legend-aka-proxy-artists\n",
            "/usr/local/lib/python3.7/dist-packages/ipykernel_launcher.py:42: UserWarning: Legend does not support 's' instances.\n",
            "A proxy artist may be used instead.\n",
            "See: http://matplotlib.org/users/legend_guide.html#creating-artists-specifically-for-adding-to-the-legend-aka-proxy-artists\n",
            "/usr/local/lib/python3.7/dist-packages/ipykernel_launcher.py:42: UserWarning: Legend does not support 't' instances.\n",
            "A proxy artist may be used instead.\n",
            "See: http://matplotlib.org/users/legend_guide.html#creating-artists-specifically-for-adding-to-the-legend-aka-proxy-artists\n",
            "/usr/local/lib/python3.7/dist-packages/ipykernel_launcher.py:42: UserWarning: Legend does not support 'r' instances.\n",
            "A proxy artist may be used instead.\n",
            "See: http://matplotlib.org/users/legend_guide.html#creating-artists-specifically-for-adding-to-the-legend-aka-proxy-artists\n",
            "/usr/local/lib/python3.7/dist-packages/ipykernel_launcher.py:42: UserWarning: Legend does not support 'b' instances.\n",
            "A proxy artist may be used instead.\n",
            "See: http://matplotlib.org/users/legend_guide.html#creating-artists-specifically-for-adding-to-the-legend-aka-proxy-artists\n",
            "/usr/local/lib/python3.7/dist-packages/ipykernel_launcher.py:42: UserWarning: Legend does not support 'u' instances.\n",
            "A proxy artist may be used instead.\n",
            "See: http://matplotlib.org/users/legend_guide.html#creating-artists-specifically-for-adding-to-the-legend-aka-proxy-artists\n",
            "/usr/local/lib/python3.7/dist-packages/ipykernel_launcher.py:42: UserWarning: Legend does not support 'o' instances.\n",
            "A proxy artist may be used instead.\n",
            "See: http://matplotlib.org/users/legend_guide.html#creating-artists-specifically-for-adding-to-the-legend-aka-proxy-artists\n",
            "/usr/local/lib/python3.7/dist-packages/ipykernel_launcher.py:42: UserWarning: Legend does not support 'n' instances.\n",
            "A proxy artist may be used instead.\n",
            "See: http://matplotlib.org/users/legend_guide.html#creating-artists-specifically-for-adding-to-the-legend-aka-proxy-artists\n"
          ]
        },
        {
          "output_type": "display_data",
          "data": {
            "text/plain": [
              "<Figure size 432x288 with 1 Axes>"
            ],
            "image/png": "[encoded data removed]"
          },
          "metadata": {
            "needs_background": "light"
          }
        }
      ]
    },
    {
      "cell_type": "code",
      "source": [
        "## Int he above graph the blue line gives us the null hypothesis distribution, i.e., the probability density of a t value we can expect if the null hypothesis were true.\n",
        "## what is the probability of observing a  t statistic of 3.32 or larger given that the null hypothesis were true, the p value is 0.001 which is very unlikely\n",
        "##So we have sufficient evidence to reject the null hypothesis which is that the sample mean and the population mean are different and that it is unlikely that the sample was drawn fronm the distribution with mu=0"
      ],
      "metadata": {
        "id": "C7tkGVn_ZRWG"
      },
      "execution_count": null,
      "outputs": []
    },
    {
      "cell_type": "markdown",
      "source": [
        "**lets look at the python function and see how that matches up**"
      ],
      "metadata": {
        "id": "Edf_mhY4arTN"
      }
    },
    {
      "cell_type": "code",
      "source": [
        "t,p=stats.ttest_1samp(data,HOval)\n",
        "print(t,p)\n",
        "#the pvalues are off because the tolbox computes the two tailed t test"
      ],
      "metadata": {
        "colab": {
          "base_uri": "https://localhost:8080/"
        },
        "id": "WPIpLQaUaqhd",
        "outputId": "6ead41de-a844-42a7-dd83-65f93848d1cb"
      },
      "execution_count": 48,
      "outputs": [
        {
          "output_type": "stream",
          "name": "stdout",
          "text": [
            "3.1724884578119976 0.0050138537280993815\n"
          ]
        }
      ]
    }
  ]
}
